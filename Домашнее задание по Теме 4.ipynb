{
 "cells": [
  {
   "cell_type": "code",
   "execution_count": 1,
   "id": "c7f84433",
   "metadata": {},
   "outputs": [],
   "source": [
    "documents = [\n",
    " {'type': 'passport', 'number': '2207 876234', 'name': 'Василий Гупкин'},\n",
    " {'type': 'invoice', 'number': '11-2', 'name': 'Геннадий Покемонов'},\n",
    " {'type': 'insurance', 'number': '10006', 'name': 'Аристарх Павлов'}\n",
    "]\n",
    "directories = {\n",
    " '1': ['2207 876234', '11-2'],\n",
    " '2': ['10006'],\n",
    " '3': []\n",
    "}\n"
   ]
  },
  {
   "cell_type": "markdown",
   "id": "2aa1f8af",
   "metadata": {},
   "source": [
    "### Задание 1"
   ]
  },
  {
   "cell_type": "code",
   "execution_count": 35,
   "id": "7247956f",
   "metadata": {},
   "outputs": [
    {
     "name": "stdout",
     "output_type": "stream",
     "text": [
      "Введите команду:p\n",
      "Введите номер документа:10006\n"
     ]
    },
    {
     "data": {
      "text/plain": [
       "'Владелец документа: Аристарх Павлов'"
      ]
     },
     "execution_count": 35,
     "metadata": {},
     "output_type": "execute_result"
    }
   ],
   "source": [
    "def doc_owner():\n",
    "    ownner_name = ''\n",
    "    user_command = input('Введите команду:')\n",
    "    #num_doc = input('Введите номер документа:')\n",
    "    if user_command == 'p': \n",
    "        num_doc = input('Введите номер документа:')\n",
    "        for row in documents:\n",
    "            if row['number'] == num_doc:\n",
    "                ownner_name = 'Владелец документа: ' + row['name']\n",
    "                #print('Владелец документа:' + row['name'])\n",
    "            if ownner_name == '':\n",
    "                ownner_name = 'Владелец документа: владелец не найден'\n",
    "                #print('Владелец документа: владелец не найден')\n",
    "        return ownner_name\n",
    "    else:\n",
    "        return 'Данной команды не существует'\n",
    "\n",
    "\n",
    "doc_owner()               "
   ]
  },
  {
   "cell_type": "markdown",
   "id": "628b676b",
   "metadata": {},
   "source": [
    "### Задание 2"
   ]
  },
  {
   "cell_type": "code",
   "execution_count": 36,
   "id": "3fbe7273",
   "metadata": {},
   "outputs": [
    {
     "name": "stdout",
     "output_type": "stream",
     "text": [
      "Введите команду:s\n",
      "Введите номер документа:10006\n"
     ]
    },
    {
     "data": {
      "text/plain": [
       "'Документ хранится на полке: 2'"
      ]
     },
     "execution_count": 36,
     "metadata": {},
     "output_type": "execute_result"
    }
   ],
   "source": [
    "def doc_shelf():\n",
    "    shelf = ''\n",
    "    user_command = input('Введите команду:')\n",
    "    if user_command == 's':\n",
    "        num_doc = input('Введите номер документа:')\n",
    "        for item, values in directories.items():\n",
    "            if num_doc in values:\n",
    "                shelf = 'Документ хранится на полке: ' + item\n",
    "            if shelf == '':\n",
    "                shelf = 'Документ не найден'\n",
    "        return shelf\n",
    "    else:\n",
    "        return 'Данной команды не существует'\n",
    "doc_shelf()"
   ]
  },
  {
   "cell_type": "markdown",
   "id": "31d320ad",
   "metadata": {},
   "source": [
    "### Вариант 2"
   ]
  },
  {
   "cell_type": "code",
   "execution_count": 37,
   "id": "ec070082",
   "metadata": {},
   "outputs": [
    {
     "name": "stdout",
     "output_type": "stream",
     "text": [
      "Введите команду:w\n"
     ]
    },
    {
     "data": {
      "text/plain": [
       "'Данной команды не существует'"
      ]
     },
     "execution_count": 37,
     "metadata": {},
     "output_type": "execute_result"
    }
   ],
   "source": [
    "def auto():\n",
    "    user_command = input('Введите команду:')\n",
    "    #num_doc = input('Введите номер документа:')\n",
    "    if user_command == 'p':\n",
    "        ownner_name = ''\n",
    "        num_doc = input('Введите номер документа:')\n",
    "        for row in documents:\n",
    "            if row['number'] == num_doc:\n",
    "                ownner_name = 'Владелец документа: ' + row['name']\n",
    "                #print('Владелец документа:' + row['name'])\n",
    "            if ownner_name == '':\n",
    "                ownner_name = 'Владелец документа: владелец не найден'\n",
    "                #print('Владелец документа: владелец не найден')\n",
    "        return ownner_name\n",
    "    if user_command == 's':\n",
    "        shelf = ''\n",
    "        num_doc = input('Введите номер документа:')\n",
    "        for item, values in directories.items():\n",
    "            if num_doc in values:\n",
    "                shelf = 'Документ хранится на полке: ' + item\n",
    "            if shelf == '':\n",
    "                shelf = 'Документ не найден'\n",
    "        return shelf\n",
    "    else:\n",
    "        return 'Данной команды не существует'\n",
    "\n",
    "auto()\n",
    "    "
   ]
  },
  {
   "cell_type": "code",
   "execution_count": null,
   "id": "c0f0f4e6",
   "metadata": {},
   "outputs": [],
   "source": []
  }
 ],
 "metadata": {
  "kernelspec": {
   "display_name": "Python 3 (ipykernel)",
   "language": "python",
   "name": "python3"
  },
  "language_info": {
   "codemirror_mode": {
    "name": "ipython",
    "version": 3
   },
   "file_extension": ".py",
   "mimetype": "text/x-python",
   "name": "python",
   "nbconvert_exporter": "python",
   "pygments_lexer": "ipython3",
   "version": "3.9.12"
  }
 },
 "nbformat": 4,
 "nbformat_minor": 5
}
